{
 "cells": [
  {
   "cell_type": "code",
   "execution_count": 4,
   "metadata": {},
   "outputs": [
    {
     "name": "stdout",
     "output_type": "stream",
     "text": [
      "        User_ID Product_ID Gender    Age  Occupation City_Category  \\\n",
      "0       1000001  P00069042      F   0-17          10             A   \n",
      "1       1000001  P00248942      F   0-17          10             A   \n",
      "2       1000001  P00087842      F   0-17          10             A   \n",
      "3       1000001  P00085442      F   0-17          10             A   \n",
      "4       1000002  P00285442      M    55+          16             C   \n",
      "...         ...        ...    ...    ...         ...           ...   \n",
      "550063  1006033  P00372445      M  51-55          13             B   \n",
      "550064  1006035  P00375436      F  26-35           1             C   \n",
      "550065  1006036  P00375436      F  26-35          15             B   \n",
      "550066  1006038  P00375436      F    55+           1             C   \n",
      "550067  1006039  P00371644      F  46-50           0             B   \n",
      "\n",
      "       Stay_In_Current_City_Years  Marital_Status  Product_Category_1  \\\n",
      "0                               2               0                   3   \n",
      "1                               2               0                   1   \n",
      "2                               2               0                  12   \n",
      "3                               2               0                  12   \n",
      "4                              4+               0                   8   \n",
      "...                           ...             ...                 ...   \n",
      "550063                          1               1                  20   \n",
      "550064                          3               0                  20   \n",
      "550065                         4+               1                  20   \n",
      "550066                          2               0                  20   \n",
      "550067                         4+               1                  20   \n",
      "\n",
      "        Product_Category_2  Product_Category_3  Purchase  \n",
      "0                      NaN                 NaN      8370  \n",
      "1                      6.0                14.0     15200  \n",
      "2                      NaN                 NaN      1422  \n",
      "3                     14.0                 NaN      1057  \n",
      "4                      NaN                 NaN      7969  \n",
      "...                    ...                 ...       ...  \n",
      "550063                 NaN                 NaN       368  \n",
      "550064                 NaN                 NaN       371  \n",
      "550065                 NaN                 NaN       137  \n",
      "550066                 NaN                 NaN       365  \n",
      "550067                 NaN                 NaN       490  \n",
      "\n",
      "[550068 rows x 12 columns]\n"
     ]
    }
   ],
   "source": [
    "import pandas as pd\n",
    "import matplotlib.pyplot as plt\n",
    "\n",
    "data = pd.read_csv(\"/Users/harrison/git/MS-AI/BlackFriday.csv\")\n",
    "\n",
    "print(data)"
   ]
  },
  {
   "cell_type": "code",
   "execution_count": 5,
   "metadata": {},
   "outputs": [
    {
     "name": "stdout",
     "output_type": "stream",
     "text": [
      "User_ID\n",
      "1000001     334093\n",
      "1000002     810472\n",
      "1000003     341635\n",
      "1000004     206468\n",
      "1000005     821001\n",
      "            ...   \n",
      "1006036    4116058\n",
      "1006037    1119538\n",
      "1006038      90034\n",
      "1006039     590319\n",
      "1006040    1653299\n",
      "Name: Purchase, Length: 5891, dtype: int64\n"
     ]
    }
   ],
   "source": [
    "user_total_spent = data.groupby('User_ID')['Purchase'].sum()\n",
    "print(user_total_spent)"
   ]
  },
  {
   "cell_type": "code",
   "execution_count": 6,
   "metadata": {},
   "outputs": [
    {
     "data": {
      "image/png": "[encoded data removed]",
      "text/plain": [
       "<Figure size 640x480 with 1 Axes>"
      ]
     },
     "metadata": {},
     "output_type": "display_data"
    }
   ],
   "source": [
    "plt.hist(user_total_spent, bins=50)\n",
    "plt.title(\"histogram\")\n",
    "plt.xlabel(\"spent\")\n",
    "plt.ylabel(\"dur\")\n",
    "plt.show()"
   ]
  },
  {
   "cell_type": "code",
   "execution_count": null,
   "metadata": {},
   "outputs": [],
   "source": []
  }
 ],
 "metadata": {
  "kernelspec": {
   "display_name": "Python 3",
   "language": "python",
   "name": "python3"
  },
  "language_info": {
   "codemirror_mode": {
    "name": "ipython",
    "version": 3
   },
   "file_extension": ".py",
   "mimetype": "text/x-python",
   "name": "python",
   "nbconvert_exporter": "python",
   "pygments_lexer": "ipython3",
   "version": "3.11.3"
  },
  "orig_nbformat": 4
 },
 "nbformat": 4,
 "nbformat_minor": 2
}
